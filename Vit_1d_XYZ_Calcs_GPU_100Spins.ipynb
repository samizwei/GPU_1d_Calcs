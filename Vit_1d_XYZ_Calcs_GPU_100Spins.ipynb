{
 "cells": [
  {
   "cell_type": "code",
   "execution_count": 1,
   "metadata": {},
   "outputs": [
    {
     "name": "stderr",
     "output_type": "stream",
     "text": [
      "/scratch/samiz/.venv/lib/python3.11/site-packages/tqdm/auto.py:21: TqdmWarning: IProgress not found. Please update jupyter and ipywidgets. See https://ipywidgets.readthedocs.io/en/stable/user_install.html\n",
      "  from .autonotebook import tqdm as notebook_tqdm\n"
     ]
    }
   ],
   "source": [
    "import netket as nk\n",
    "import numpy as np\n",
    "import matplotlib.pyplot as plt\n",
    "\n",
    "from Afm_Model_functions import H_afm_1d as H_xyz_1d\n",
    "from ViT_1d_translation import *\n",
    "\n",
    "from scipy.sparse.linalg import eigsh\n"
   ]
  },
  {
   "cell_type": "code",
   "execution_count": 2,
   "metadata": {},
   "outputs": [],
   "source": [
    "sgd = nk.optimizer.Sgd(learning_rate=1e-3)\n",
    "sr = nk.optimizer.SR(diag_shift=1e-4, holomorphic=True)\n",
    "\n",
    "dataDir = 'Log_Files_XYZ'"
   ]
  },
  {
   "cell_type": "code",
   "execution_count": null,
   "metadata": {},
   "outputs": [],
   "source": [
    "p_Ha = {\n",
    "    'L' : 100,\n",
    "    'J' : 1.0,\n",
    "    'Dxy' : 0.75,\n",
    "    'd' : 0.1,\n",
    "    'make_rot' : True,\n",
    "    'exchange_XY' : True,\n",
    "    'return_hi' : True\n",
    "}\n",
    "\n",
    "Ha100_SS, hi100 = H_xyz_1d(L = p_Ha['L'], J1 = p_Ha['J'], Dxy = p_Ha['Dxy'], d = p_Ha['d'], \n",
    "                make_rotation = p_Ha['make_rot'], exchange_XY = p_Ha['exchange_XY'], return_space= p_Ha['return_hi'])\n",
    "\n",
    "sampler_100 = nk.sampler.MetropolisLocal(hilbert=hi100, n_chains=8)"
   ]
  },
  {
   "cell_type": "code",
   "execution_count": null,
   "metadata": {},
   "outputs": [],
   "source": [
    "pvit_100 = {\n",
    "    'p' : 4,\n",
    "    'd' : 32,\n",
    "    'h' : 8,\n",
    "    'nl' : 1, \n",
    "}\n",
    "\n",
    "transl_arr = get_translations(number_nodes=100, patch_size=pvit_100['p'])\n",
    "pvit_100['translations'] = transl_arr\n",
    "\n",
    "# m_vit_100 = Simplified_ViT_TranslationSymmetric(patch_size=pvit_100['p'], embed_dim=pvit_100['d'], heads=pvit_100['h'], nl=pvit_100['nl'],\n",
    "#                                                  translations=pvit_100['translations'])\n",
    "\n",
    "# vs_vit100_trasl = nk.vqs.MCState(sampler=sampler_100, model=m_vit_100, n_samples=2**10)"
   ]
  },
  {
   "cell_type": "code",
   "execution_count": null,
   "metadata": {},
   "outputs": [],
   "source": [
    "ps = [4, 10]\n",
    "ds = [16, 32, 64]\n",
    "nls = [1, 2]\n"
   ]
  },
  {
   "cell_type": "code",
   "execution_count": null,
   "metadata": {},
   "outputs": [],
   "source": [
    "for i, nl in enumerate(nls):\n",
    "    for j, d in enumerate(ds):\n",
    "        for k, p in enumerate(ps):\n",
    "            print('Starting training for p = ', p, ' d = ', d, ' nl = ', nl)\n",
    "            transl_arr = get_translations(number_nodes=100, patch_size=p)\n",
    "            pvit_100['translations'] = transl_arr\n",
    "            pvit_100['p'] = p\n",
    "            pvit_100['d'] = d\n",
    "            pvit_100['nl'] = nl\n",
    "\n",
    "            m_vit_100 = Simplified_ViT_TranslationSymmetric(patch_size=pvit_100['p'], embed_dim=pvit_100['d'], heads=pvit_100['h'], nl=pvit_100['nl'], translations=pvit_100['translations'])\n",
    "            vs100 = nk.vqs.MCState(sampler=sampler_100, model=m_vit_100, n_samples=2**10, chunk_size=2**9)\n",
    "\n",
    "            log_curr = nk.logging.RuntimeLog()\n",
    "            gs100 = nk.driver.VMC(H=Ha100_SS, sampler=sampler_100, optimizer=sgd, n_samples=2**10, preconditioner=sr)\n",
    "\n",
    "            gs100.run(n_iter=600, out=log_curr)\n",
    "\n",
    "            log_curr.serialize(dataDir + '/Log_XYZ_S100_vit_transl_p{}_d{}_h{}_nl{}_SS'.format(pvit_100['p'], pvit_100['d'], pvit_100['h'], pvit_100['nl']))"
   ]
  }
 ],
 "metadata": {
  "kernelspec": {
   "display_name": ".venv",
   "language": "python",
   "name": "python3"
  },
  "language_info": {
   "codemirror_mode": {
    "name": "ipython",
    "version": 3
   },
   "file_extension": ".py",
   "mimetype": "text/x-python",
   "name": "python",
   "nbconvert_exporter": "python",
   "pygments_lexer": "ipython3",
   "version": "3.11.2"
  }
 },
 "nbformat": 4,
 "nbformat_minor": 2
}
